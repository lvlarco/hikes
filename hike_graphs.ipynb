{
 "cells": [
  {
   "cell_type": "markdown",
   "metadata": {},
   "source": [
    "# Data Compilation\n",
    "First, compile all data. When clicking 'Compile Hikes', the code will combine all hikes stored in the repo, format it, and save it into one CSV."
   ]
  },
  {
   "cell_type": "code",
   "execution_count": 20,
   "metadata": {},
   "outputs": [
    {
     "name": "stdout",
     "output_type": "stream",
     "text": [
      "Adding Blood Mountain to file\n",
      "Adding East Palisades to file\n",
      "Saving file to './files/complete_hikes_list.csv'\n"
     ]
    }
   ],
   "source": [
    "from ipywidgets import widgets\n",
    "import data_processing\n",
    "\n",
    "\n",
    "# def compile_hike_clicked(press):\n",
    "data_processing.main()\n",
    "# data_button = widgets.Button(description='Compile Hikes')\n",
    "# display(data_button)\n",
    "# data_button.on_click(compile_hike_clicked)"
   ]
  },
  {
   "cell_type": "code",
   "execution_count": 21,
   "metadata": {},
   "outputs": [
    {
     "data": {
      "text/html": [
       "<iframe id=\"igraph\" scrolling=\"no\" style=\"border:none;\" seamless=\"seamless\" src=\"https://plot.ly/~lvlarco/79.embed\" height=\"525px\" width=\"100%\"></iframe>"
      ],
      "text/plain": [
       "<plotly.tools.PlotlyDisplay object>"
      ]
     },
     "execution_count": 21,
     "metadata": {},
     "output_type": "execute_result"
    }
   ],
   "source": [
    "import plotly.plotly as py\n",
    "import plotly.graph_objs as go\n",
    "import cufflinks as cf\n",
    "import pandas as pd\n",
    "import numpy as np\n",
    "import matplotlib.pyplot as plt\n",
    "# from ipywidgets import widgets\n",
    "from IPython.display import clear_output, display\n",
    "\n",
    "\n",
    "# def plot_graph(press):\n",
    "#     clear_output()\n",
    "#     display(controls)\n",
    "    \n",
    "file_name = 'complete_hikes_list'\n",
    "df = pd.read_csv(\"files/{}.csv\".format(file_name), index_col=0)\n",
    "# names, date, time, atitude, elevation_gain, delta_time = df.columns\n",
    "df = df[['Name','Delta Time','Elevation Gain']]\n",
    "df.dropna(inplace=True)\n",
    "df.reset_index(drop=True)\n",
    "hikes = df['Name']\n",
    "hikes_list = pd.unique(hikes)\n",
    "\n",
    "i = 0\n",
    "for trail in hikes_list:\n",
    "    wide_df = df.loc[df['Name'] == trail]\n",
    "    wide_df.loc[:, trail] = pd.Series(df['Elevation Gain'])\n",
    "    wide_df = wide_df.drop(columns=['Elevation Gain','Name']).sort_values(by='Delta Time', ascending=True).\\\n",
    "                reset_index(drop=True)\n",
    "\n",
    "    if i == 0:\n",
    "        gain_df = wide_df\n",
    "        i += 1\n",
    "    else:\n",
    "        gain_df = pd.concat([gain_df, wide_df[[trail, 'Delta Time']]], axis=0, sort=True).reset_index(drop=True)\n",
    "\n",
    "gain_df = gain_df.sort_values(by='Delta Time', ascending=True)\n",
    "gain_df.iplot(x = 'Delta Time', kind='scatter', mode='markers', filename='complete_hikes', yTitle='Elevation Gain [ft]', xTitle='Time [hh:mm]', title='Altitude climbed in every hike')\n",
    "\n",
    "# display(graph_button)\n",
    "# graph_button.on_click(plot_graph)"
   ]
  },
  {
   "cell_type": "code",
   "execution_count": 22,
   "metadata": {},
   "outputs": [],
   "source": [
    "# fig, ax = plt.subplots(figsize=(8,6))\n",
    "\n",
    "# for hikes, row in df.groupby('Name'):\n",
    "#     row.plot(x='Delta Time', y='Elevation Gain', ax=ax, label=hikes)\n",
    "# plt.xlabel('Time [hh:mm]')\n",
    "# plt.ylabel('Elevation Gain [ft]')"
   ]
  },
  {
   "cell_type": "code",
   "execution_count": null,
   "metadata": {},
   "outputs": [],
   "source": []
  }
 ],
 "metadata": {
  "kernelspec": {
   "display_name": "Python 2",
   "language": "python",
   "name": "python2"
  },
  "language_info": {
   "codemirror_mode": {
    "name": "ipython",
    "version": 2
   },
   "file_extension": ".py",
   "mimetype": "text/x-python",
   "name": "python",
   "nbconvert_exporter": "python",
   "pygments_lexer": "ipython2",
   "version": "2.7.15"
  }
 },
 "nbformat": 4,
 "nbformat_minor": 2
}
