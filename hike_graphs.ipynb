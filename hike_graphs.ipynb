{
 "cells": [
  {
   "cell_type": "markdown",
   "metadata": {},
   "source": [
    "# Data Compilation\n",
    "First, compile all data. When clicking 'Compile Hikes', the code will combine all hikes stored in the repo, format it, and save it into one CSV."
   ]
  },
  {
   "cell_type": "code",
   "execution_count": 163,
   "metadata": {},
   "outputs": [
    {
     "data": {
      "text/html": [
       "<script>\n",
       "code_show=true; \n",
       "function code_toggle() {\n",
       " if (code_show){\n",
       " $('div.input').hide();\n",
       " } else {\n",
       " $('div.input').show();\n",
       " }\n",
       " code_show = !code_show\n",
       "} \n",
       "$( document ).ready(code_toggle);\n",
       "</script>\n",
       "<form action=\"javascript:code_toggle()\"><input type=\"submit\" value=\"Click here to toggle on/off the raw code.\"></form>"
      ],
      "text/plain": [
       "<IPython.core.display.HTML object>"
      ]
     },
     "execution_count": 163,
     "metadata": {},
     "output_type": "execute_result"
    }
   ],
   "source": [
    "from IPython.display import HTML\n",
    "\n",
    "\n",
    "HTML('''<script>\n",
    "code_show=true; \n",
    "function code_toggle() {\n",
    " if (code_show){\n",
    " $('div.input').hide();\n",
    " } else {\n",
    " $('div.input').show();\n",
    " }\n",
    " code_show = !code_show\n",
    "} \n",
    "$( document ).ready(code_toggle);\n",
    "</script>\n",
    "<form action=\"javascript:code_toggle()\"><input type=\"submit\" value=\"Click here to toggle on/off the raw code.\"></form>''')"
   ]
  },
  {
   "cell_type": "code",
   "execution_count": 167,
   "metadata": {
    "scrolled": true
   },
   "outputs": [
    {
     "data": {
      "application/vnd.jupyter.widget-view+json": {
       "model_id": "64ef1912e5404f288295d9199fab4775",
       "version_major": 2,
       "version_minor": 0
      },
      "text/plain": [
       "Button(description=u'Click to compile hikes', style=ButtonStyle())"
      ]
     },
     "metadata": {},
     "output_type": "display_data"
    },
    {
     "name": "stdout",
     "output_type": "stream",
     "text": [
      "Processing: Blood Mountain\n",
      "No corrected altitude provided for Blood Mountain\n",
      "Processing: Brasstown Bald\n",
      "No corrected altitude provided for Brasstown Bald\n",
      "Processing: East Palisades\n",
      "No corrected altitude provided for East Palisades\n",
      "Processing: Sawnee\n",
      "No corrected altitude provided for Sawnee\n",
      "Processing: Sweetwater\n",
      "No corrected altitude provided for Sweetwater\n",
      "Saving complete list to './files/complete_hikes_list.csv'\n"
     ]
    }
   ],
   "source": [
    "from ipywidgets import widgets\n",
    "import pandas as pd\n",
    "import data_processing\n",
    "from IPython.display import clear_output, display\n",
    "\n",
    "\n",
    "def compile_hike_clicked(press):\n",
    "    clear_output()\n",
    "    display(data_button)\n",
    "    data_processing.main()\n",
    "file_name = 'complete_hikes_list'\n",
    "df = pd.read_csv(\"files/{}.csv\".format(file_name))\n",
    "# df.head()\n",
    "data_button = widgets.Button(description='Click to compile hikes')\n",
    "display(data_button)\n",
    "data_button.on_click(compile_hike_clicked)"
   ]
  },
  {
   "cell_type": "code",
   "execution_count": 169,
   "metadata": {},
   "outputs": [
    {
     "data": {
      "text/html": [
       "<iframe id=\"igraph\" scrolling=\"no\" style=\"border:none;\" seamless=\"seamless\" src=\"https://plot.ly/~lvlarco/88.embed\" height=\"525px\" width=\"100%\"></iframe>"
      ],
      "text/plain": [
       "<plotly.tools.PlotlyDisplay object>"
      ]
     },
     "execution_count": 169,
     "metadata": {},
     "output_type": "execute_result"
    }
   ],
   "source": [
    "import plotly.plotly as py\n",
    "import cufflinks as cf\n",
    "import plotly.graph_objs as go\n",
    "import numpy as np\n",
    "import matplotlib.pyplot as plt\n",
    "# from ipywidgets import widgets\n",
    "from IPython.display import clear_output, display\n",
    "\n",
    "# def plot_graph(press):\n",
    "#     clear_output()\n",
    "#     display(controls)\n",
    "\n",
    "elevation_df = df[['Delta Time', 'Name', 'Elevation Gain']]\n",
    "elevation_df = elevation_df.pivot(index='Delta Time', columns='Name', values='Elevation Gain')\n",
    "elevation_df.iplot(kind='scatter', connectgaps=True, filename='hike_elevation_gain', \n",
    "                   yTitle='Elevation Gain [m]', xTitle='Time [hh:mm]', title='Altitude climbed in every hike')\n",
    "# elevation_df.head()\n"
   ]
  },
  {
   "cell_type": "code",
   "execution_count": 170,
   "metadata": {},
   "outputs": [
    {
     "data": {
      "text/html": [
       "<iframe id=\"igraph\" scrolling=\"no\" style=\"border:none;\" seamless=\"seamless\" src=\"https://plot.ly/~lvlarco/90.embed\" height=\"525px\" width=\"100%\"></iframe>"
      ],
      "text/plain": [
       "<plotly.tools.PlotlyDisplay object>"
      ]
     },
     "execution_count": 170,
     "metadata": {},
     "output_type": "execute_result"
    }
   ],
   "source": [
    "hike_name = 'Blood Mountain'\n",
    "hike_data = '2018-04-11'\n",
    "activity_name = 'heart'\n",
    "value = 'Elevation Gain'\n",
    "\n",
    "fitbit_file = '{0}_{1}_{2}'.format(hike_name, activity_name, hike_data)\n",
    "fitbit_df = pd.read_csv(\"files/fitbit_data/{}.csv\".format(fitbit_file), index_col=0).drop(['Time','Date'], axis=1)\n",
    "\n",
    "activity_df = df[['Timestamp', 'Name', 'Elevation Gain']]\n",
    "activity_df = activity_df.pivot(index='Timestamp', columns='Name', values='Elevation Gain')\n",
    "activity_df = activity_df.loc[:,hike_name].reset_index().dropna()\n",
    "activity_df.set_index('Timestamp', drop=True, inplace=True)\n",
    "combined_df = pd.concat([fitbit_df, activity_df], sort=False)\n",
    "combined_df = combined_df.rename(columns={hike_name:value}).sort_values('Timestamp')\n",
    "\n",
    "data = [go.Scatter(x=combined_df.index, y=combined_df[value], name=value, \n",
    "                   line = dict(color = ('rgb(22, 96, 167)')),connectgaps=True),\n",
    "        go.Scatter(x=combined_df.index, y=combined_df[activity_name.capitalize()], name='Heart rate', yaxis='y2',\n",
    "                  line = dict(color = ('rgb(101, 204, 73)')),connectgaps=True)]\n",
    "\n",
    "layout = go.Layout(title='Heart rate at {}'.format(hike_name),\n",
    "                   # Define first yaxis\n",
    "                   yaxis=dict(\n",
    "                       title='Elevation Gain [m]'),\n",
    "                   # Define second yaxis\n",
    "                   yaxis2=dict(\n",
    "                       title='Heart Rate [bpm]',\n",
    "                       titlefont=dict(\n",
    "                           color='gray'),\n",
    "                       tickfont=dict(\n",
    "                           color='gray'),\n",
    "                       overlaying='y',\n",
    "                       side='right')\n",
    "                  )\n",
    "fig = go.Figure(data=data, layout=layout)\n",
    "py.iplot(fig, filename='elevation_heartRate')\n",
    "\n",
    "# combined_df.head()\n"
   ]
  },
  {
   "cell_type": "code",
   "execution_count": null,
   "metadata": {},
   "outputs": [],
   "source": []
  }
 ],
 "metadata": {
  "kernelspec": {
   "display_name": "Python 2",
   "language": "python",
   "name": "python2"
  },
  "language_info": {
   "codemirror_mode": {
    "name": "ipython",
    "version": 2
   },
   "file_extension": ".py",
   "mimetype": "text/x-python",
   "name": "python",
   "nbconvert_exporter": "python",
   "pygments_lexer": "ipython2",
   "version": "2.7.15"
  }
 },
 "nbformat": 4,
 "nbformat_minor": 2
}
