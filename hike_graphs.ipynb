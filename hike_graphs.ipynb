{
 "cells": [
  {
   "cell_type": "markdown",
   "metadata": {},
   "source": [
    "# Data Compilation\n",
    "First, compile all data. When clicking 'Compile Hikes', the code will combine all hikes stored in the repo, format it, and save it into one CSV."
   ]
  },
  {
   "cell_type": "code",
   "execution_count": 1,
   "metadata": {
    "scrolled": true
   },
   "outputs": [
    {
     "name": "stdout",
     "output_type": "stream",
     "text": [
      "Processing: Blood Mountain\n",
      "No corrected altitude provided for Blood Mountain\n",
      "Processing: Brasstown Bald\n",
      "No corrected altitude provided for Brasstown Bald\n",
      "Processing: East Palisades\n",
      "No corrected altitude provided for East Palisades\n",
      "Processing: Sawnee\n",
      "No corrected altitude provided for Sawnee\n",
      "Processing: Sweetwater\n",
      "No corrected altitude provided for Sweetwater\n",
      "Saving complete list to './files/complete_hikes_list.csv'\n",
      "Processing: Blood Mountain\n",
      "No corrected altitude provided for Blood Mountain\n",
      "Processing: Brasstown Bald\n",
      "No corrected altitude provided for Brasstown Bald\n",
      "Processing: East Palisades\n",
      "No corrected altitude provided for East Palisades\n",
      "Processing: Sawnee\n",
      "No corrected altitude provided for Sawnee\n",
      "Processing: Sweetwater\n",
      "No corrected altitude provided for Sweetwater\n",
      "Saving complete list to './files/complete_hikes_list.csv'\n"
     ]
    }
   ],
   "source": [
    "from ipywidgets import widgets\n",
    "import pandas as pd\n",
    "import data_processing\n",
    "\n",
    "\n",
    "# def compile_hike_clicked(press):\n",
    "data_processing.main()\n",
    "file_name = 'complete_hikes_list'\n",
    "df = pd.read_csv(\"files/{}.csv\".format(file_name))\n",
    "# data_button = widgets.Button(description='Compile Hikes')\n",
    "# display(data_button)\n",
    "# data_button.on_click(compile_hike_clicked)"
   ]
  },
  {
   "cell_type": "code",
   "execution_count": 2,
   "metadata": {},
   "outputs": [
    {
     "data": {
      "text/html": [
       "<iframe id=\"igraph\" scrolling=\"no\" style=\"border:none;\" seamless=\"seamless\" src=\"https://plot.ly/~lvlarco/83.embed\" height=\"525px\" width=\"100%\"></iframe>"
      ],
      "text/plain": [
       "<plotly.tools.PlotlyDisplay object>"
      ]
     },
     "execution_count": 2,
     "metadata": {},
     "output_type": "execute_result"
    }
   ],
   "source": [
    "import plotly.plotly as py\n",
    "import cufflinks as cf\n",
    "import plotly.graph_objs as go\n",
    "import numpy as np\n",
    "import matplotlib.pyplot as plt\n",
    "# from ipywidgets import widgets\n",
    "from IPython.display import clear_output, display\n",
    "\n",
    "# def plot_graph(press):\n",
    "#     clear_output()\n",
    "#     display(controls)\n",
    "\n",
    "elevation_df = df[['Delta Time', 'Name', 'Elevation Gain']]\n",
    "elevation_df = elevation_df.pivot(index='Delta Time', columns='Name', values='Elevation Gain')\n",
    "elevation_df.iplot(kind='scatter', connectgaps=True, filename='hike_elevation_gain',\n",
    "                  yTitle='Elevation Gain [m]', xTitle='Time [hh:mm]', title='Altitude climbed in every hike')\n"
   ]
  },
  {
   "cell_type": "code",
   "execution_count": 22,
   "metadata": {},
   "outputs": [
    {
     "data": {
      "text/html": [
       "<iframe id=\"igraph\" scrolling=\"no\" style=\"border:none;\" seamless=\"seamless\" src=\"https://plot.ly/~lvlarco/79.embed\" height=\"525px\" width=\"100%\"></iframe>"
      ],
      "text/plain": [
       "<plotly.tools.PlotlyDisplay object>"
      ]
     },
     "execution_count": 22,
     "metadata": {},
     "output_type": "execute_result"
    }
   ],
   "source": [
    "import plotly.plotly as py\n",
    "import plotly.graph_objs as go\n",
    "import cufflinks as cf\n",
    "import numpy as np\n",
    "import matplotlib.pyplot as plt\n",
    "# from ipywidgets import widgets\n",
    "from IPython.display import clear_output, display\n",
    "\n",
    "\n",
    "# def plot_graph(press):\n",
    "#     clear_output()\n",
    "#     display(controls)\n",
    "    \n",
    "\n",
    "# names, date, time, atitude, elevation_gain, delta_time = df.columns\n",
    "df = df[['Name','Delta Time','Elevation Gain']]\n",
    "df.dropna(inplace=True)\n",
    "df.reset_index(drop=True)\n",
    "hikes_list = pd.unique(df['Name'])\n",
    "\n",
    "i = 0\n",
    "for trail in hikes_list:\n",
    "    wide_df = df.loc[df['Name'] == trail]\n",
    "    wide_df.loc[:, trail] = pd.Series(df['Elevation Gain'])\n",
    "    wide_df = wide_df.drop(columns=['Elevation Gain','Name']).sort_values(by='Delta Time', ascending=True).\\\n",
    "                reset_index(drop=True)\n",
    "\n",
    "    if i == 0:\n",
    "        gain_df = wide_df\n",
    "        i += 1\n",
    "    else:\n",
    "        gain_df = pd.concat([gain_df, wide_df[[trail, 'Delta Time']]], axis=0, sort=True).reset_index(drop=True)\n",
    "        \n",
    "cols = gain_df.columns.tolist()\n",
    "cols.insert(0, cols.pop(cols.index('Delta Time')))\n",
    "gain_df = gain_df.reindex(columns=cols)\n",
    "gain_df['Delta Time'] = pd.to_datetime(gain_df['Delta Time'])\n",
    "# gain_df.set_index('Delta Time')\n",
    "gain_df = gain_df.sort_values(by='Delta Time', ascending=True).drop_duplicates().reset_index(drop=True)\n",
    "gain_df.groupby(\"Delta Time\")\n",
    "gain_df.iplot(x = 'Delta Time', kind='scatter', connectgaps=True, filename='complete_hikes', \n",
    "              yTitle='Elevation Gain [m]', xTitle='Time [hh:mm]', title='Altitude climbed in every hike')\n",
    "\n",
    "# display(graph_button)\n",
    "# graph_button.on_click(plot_graph)"
   ]
  },
  {
   "cell_type": "code",
   "execution_count": 13,
   "metadata": {},
   "outputs": [
    {
     "data": {
      "text/html": [
       "<div>\n",
       "<style scoped>\n",
       "    .dataframe tbody tr th:only-of-type {\n",
       "        vertical-align: middle;\n",
       "    }\n",
       "\n",
       "    .dataframe tbody tr th {\n",
       "        vertical-align: top;\n",
       "    }\n",
       "\n",
       "    .dataframe thead th {\n",
       "        text-align: right;\n",
       "    }\n",
       "</style>\n",
       "<table border=\"1\" class=\"dataframe\">\n",
       "  <thead>\n",
       "    <tr style=\"text-align: right;\">\n",
       "      <th></th>\n",
       "      <th>Heart Rate</th>\n",
       "      <th>Time</th>\n",
       "    </tr>\n",
       "  </thead>\n",
       "  <tbody>\n",
       "    <tr>\n",
       "      <th>0</th>\n",
       "      <td>0</td>\n",
       "      <td>00:00:00</td>\n",
       "    </tr>\n",
       "    <tr>\n",
       "      <th>1</th>\n",
       "      <td>10</td>\n",
       "      <td>00:15:00</td>\n",
       "    </tr>\n",
       "    <tr>\n",
       "      <th>2</th>\n",
       "      <td>12</td>\n",
       "      <td>00:30:00</td>\n",
       "    </tr>\n",
       "    <tr>\n",
       "      <th>3</th>\n",
       "      <td>0</td>\n",
       "      <td>00:45:00</td>\n",
       "    </tr>\n",
       "    <tr>\n",
       "      <th>4</th>\n",
       "      <td>0</td>\n",
       "      <td>01:00:00</td>\n",
       "    </tr>\n",
       "  </tbody>\n",
       "</table>\n",
       "</div>"
      ],
      "text/plain": [
       "   Heart Rate      Time\n",
       "0           0  00:00:00\n",
       "1          10  00:15:00\n",
       "2          12  00:30:00\n",
       "3           0  00:45:00\n",
       "4           0  01:00:00"
      ]
     },
     "execution_count": 13,
     "metadata": {},
     "output_type": "execute_result"
    }
   ],
   "source": [
    "hike_data = '2019-04-14'\n",
    "activity_name = 'steps'\n",
    "\n",
    "fitbit_file = '{0}_{1}'.format(activity_name, hike_data)\n",
    "fitbit_df = pd.read_csv(\"files/fitbit_data/{}.csv\".format(fitbit_file), index_col=0)\n",
    "\n",
    "fitbit_df.head()\n"
   ]
  },
  {
   "cell_type": "code",
   "execution_count": null,
   "metadata": {},
   "outputs": [],
   "source": []
  }
 ],
 "metadata": {
  "kernelspec": {
   "display_name": "Python 2",
   "language": "python",
   "name": "python2"
  },
  "language_info": {
   "codemirror_mode": {
    "name": "ipython",
    "version": 2
   },
   "file_extension": ".py",
   "mimetype": "text/x-python",
   "name": "python",
   "nbconvert_exporter": "python",
   "pygments_lexer": "ipython2",
   "version": "2.7.15"
  }
 },
 "nbformat": 4,
 "nbformat_minor": 2
}
