{
 "cells": [
  {
   "cell_type": "code",
   "execution_count": 90,
   "metadata": {},
   "outputs": [
    {
     "data": {
      "text/html": [
       "<div>\n",
       "<style scoped>\n",
       "    .dataframe tbody tr th:only-of-type {\n",
       "        vertical-align: middle;\n",
       "    }\n",
       "\n",
       "    .dataframe tbody tr th {\n",
       "        vertical-align: top;\n",
       "    }\n",
       "\n",
       "    .dataframe thead th {\n",
       "        text-align: right;\n",
       "    }\n",
       "</style>\n",
       "<table border=\"1\" class=\"dataframe\">\n",
       "  <thead>\n",
       "    <tr style=\"text-align: right;\">\n",
       "      <th></th>\n",
       "      <th>hike</th>\n",
       "      <th>date</th>\n",
       "      <th>time</th>\n",
       "      <th>altimeter</th>\n",
       "      <th>accuracy</th>\n",
       "      <th>altitude</th>\n",
       "      <th>time_h_m</th>\n",
       "      <th>corrected_altitude</th>\n",
       "      <th>elevation_gain</th>\n",
       "    </tr>\n",
       "  </thead>\n",
       "  <tbody>\n",
       "    <tr>\n",
       "      <th>0</th>\n",
       "      <td>Blood Mountain</td>\n",
       "      <td>4/11/2018</td>\n",
       "      <td>11:58:29</td>\n",
       "      <td>GPS</td>\n",
       "      <td>Accurate</td>\n",
       "      <td>925.6</td>\n",
       "      <td>00:00:00</td>\n",
       "      <td>3036.7</td>\n",
       "      <td>0.0</td>\n",
       "    </tr>\n",
       "    <tr>\n",
       "      <th>1</th>\n",
       "      <td>Blood Mountain</td>\n",
       "      <td>4/11/2018</td>\n",
       "      <td>12:05:06</td>\n",
       "      <td>GPS</td>\n",
       "      <td>Accurate</td>\n",
       "      <td>935.4</td>\n",
       "      <td>00:06:37</td>\n",
       "      <td>3068.9</td>\n",
       "      <td>32.2</td>\n",
       "    </tr>\n",
       "    <tr>\n",
       "      <th>2</th>\n",
       "      <td>Blood Mountain</td>\n",
       "      <td>4/11/2018</td>\n",
       "      <td>12:08:24</td>\n",
       "      <td>GPS</td>\n",
       "      <td>Accurate</td>\n",
       "      <td>952.6</td>\n",
       "      <td>00:09:55</td>\n",
       "      <td>3125.3</td>\n",
       "      <td>88.6</td>\n",
       "    </tr>\n",
       "    <tr>\n",
       "      <th>3</th>\n",
       "      <td>Blood Mountain</td>\n",
       "      <td>4/11/2018</td>\n",
       "      <td>12:16:45</td>\n",
       "      <td>GPS</td>\n",
       "      <td>Accurate</td>\n",
       "      <td>1006.2</td>\n",
       "      <td>00:18:16</td>\n",
       "      <td>3301.2</td>\n",
       "      <td>264.4</td>\n",
       "    </tr>\n",
       "    <tr>\n",
       "      <th>4</th>\n",
       "      <td>Blood Mountain</td>\n",
       "      <td>4/11/2018</td>\n",
       "      <td>12:27:05</td>\n",
       "      <td>GPS</td>\n",
       "      <td>Accurate</td>\n",
       "      <td>1056.2</td>\n",
       "      <td>00:28:36</td>\n",
       "      <td>3465.2</td>\n",
       "      <td>428.5</td>\n",
       "    </tr>\n",
       "  </tbody>\n",
       "</table>\n",
       "</div>"
      ],
      "text/plain": [
       "             hike       date      time altimeter  accuracy altitude  time_h_m  \\\n",
       "0  Blood Mountain  4/11/2018  11:58:29       GPS  Accurate    925.6  00:00:00   \n",
       "1  Blood Mountain  4/11/2018  12:05:06       GPS  Accurate    935.4  00:06:37   \n",
       "2  Blood Mountain  4/11/2018  12:08:24       GPS  Accurate    952.6  00:09:55   \n",
       "3  Blood Mountain  4/11/2018  12:16:45       GPS  Accurate   1006.2  00:18:16   \n",
       "4  Blood Mountain  4/11/2018  12:27:05       GPS  Accurate   1056.2  00:28:36   \n",
       "\n",
       "   corrected_altitude  elevation_gain  \n",
       "0              3036.7             0.0  \n",
       "1              3068.9            32.2  \n",
       "2              3125.3            88.6  \n",
       "3              3301.2           264.4  \n",
       "4              3465.2           428.5  "
      ]
     },
     "execution_count": 90,
     "metadata": {},
     "output_type": "execute_result"
    }
   ],
   "source": [
    "import plotly.plotly as py\n",
    "import plotly.graph_objs as go\n",
    "#import cufflinks as cf\n",
    "import pandas as pd\n",
    "import numpy as np\n",
    "import matplotlib.pyplot as plt\n",
    "\n",
    "%matplotlib inline\n",
    "\n",
    "df = pd.read_csv(\"files/hike_compilation.csv\")\n",
    "df.head()\n"
   ]
  },
  {
   "cell_type": "code",
   "execution_count": null,
   "metadata": {
    "collapsed": true
   },
   "outputs": [],
   "source": []
  },
  {
   "cell_type": "code",
   "execution_count": 91,
   "metadata": {},
   "outputs": [
    {
     "data": {
      "text/plain": [
       "Text(0,0.5,u'Elevation Gain [ft]')"
      ]
     },
     "execution_count": 91,
     "metadata": {},
     "output_type": "execute_result"
    },
    {
     "data": {
      "image/png": "[encoded data removed]",
      "text/plain": [
       "<matplotlib.figure.Figure at 0xdba5400>"
      ]
     },
     "metadata": {},
     "output_type": "display_data"
    }
   ],
   "source": [
    "fig, ax = plt.subplots(figsize=(8,6))\n",
    "\n",
    "for hikes, row in df.groupby('hike'):\n",
    "    row.plot(x=pd.to_datetime(row['time_h_m']), y='elevation_gain', ax=ax, label=hikes)\n",
    "plt.xlabel('Time [hh:mm]')\n",
    "plt.ylabel('Elevation Gain [ft]')"
   ]
  },
  {
   "cell_type": "code",
   "execution_count": 92,
   "metadata": {},
   "outputs": [
    {
     "data": {
      "text/html": [
       "<iframe id=\"igraph\" scrolling=\"no\" style=\"border:none;\" seamless=\"seamless\" src=\"https://plot.ly/~lvlarco/28.embed\" height=\"525px\" width=\"100%\"></iframe>"
      ],
      "text/plain": [
       "<plotly.tools.PlotlyDisplay object>"
      ]
     },
     "execution_count": 92,
     "metadata": {},
     "output_type": "execute_result"
    }
   ],
   "source": [
    "trace = go.Scatter(\n",
    "                    x = df.time_h_m,\n",
    "                    y = df.elevation_gain,\n",
    "                    mode = \"lines\",\n",
    "                    name = \"hike\",\n",
    "                    marker = dict(color = 'rgba(16, 112, 2, 0.8)'))\n",
    "\n",
    "data = go.Data([trace])\n",
    "layout = go.Layout(xaxis={'title':'Time [hh:mm]'},yaxis={'title':'Elevation Gain [ft]'})\n",
    "fig = dict(data = data, layout = layout)\n",
    "\n",
    "py.iplot(fig)\n",
    "\n"
   ]
  },
  {
   "cell_type": "code",
   "execution_count": 93,
   "metadata": {},
   "outputs": [
    {
     "data": {
      "text/html": [
       "<iframe id=\"igraph\" scrolling=\"no\" style=\"border:none;\" seamless=\"seamless\" src=\"https://plot.ly/~lvlarco/30.embed\" height=\"525px\" width=\"100%\"></iframe>"
      ],
      "text/plain": [
       "<plotly.tools.PlotlyDisplay object>"
      ]
     },
     "execution_count": 93,
     "metadata": {},
     "output_type": "execute_result"
    }
   ],
   "source": [
    "#fig, ax = plt.subplots(figsize=(8,6))\n",
    "#df = df.groupby('hike')\n",
    "\n",
    "for hike, x_ax in df.groupby('hike'):\n",
    "    \n",
    "    #x_ax.plot(x=pd.to_datetime(x_ax['time_h_m']), y='elevation_gain', ax=ax, label=hike)\n",
    "    trace = go.Scatter(x = df.time_h_m, y = df.elevation_gain, mode = \"lines\", name = \"hike\", marker = dict(color = 'rgba(16, 112, 2, 0.8)'))\n",
    "    data = go.Data([trace])\n",
    "    \n",
    "    \n",
    "layout = go.Layout(xaxis={'title':'Time [hh:mm]'},yaxis={'title':'Elevation Gain [ft]'})\n",
    "fig = dict(data = data, layout = layout)\n",
    "\n",
    "py.iplot(fig)\n"
   ]
  },
  {
   "cell_type": "code",
   "execution_count": 96,
   "metadata": {},
   "outputs": [
    {
     "ename": "SyntaxError",
     "evalue": "invalid syntax (<ipython-input-96-7794173b4416>, line 1)",
     "output_type": "error",
     "traceback": [
      "\u001b[1;36m  File \u001b[1;32m\"<ipython-input-96-7794173b4416>\"\u001b[1;36m, line \u001b[1;32m1\u001b[0m\n\u001b[1;33m    jupyter nbconvert hike_graphs.ipynb\u001b[0m\n\u001b[1;37m                    ^\u001b[0m\n\u001b[1;31mSyntaxError\u001b[0m\u001b[1;31m:\u001b[0m invalid syntax\n"
     ]
    }
   ],
   "source": [
    "jupyter nbconvert hike_graphs.ipynb"
   ]
  },
  {
   "cell_type": "code",
   "execution_count": null,
   "metadata": {
    "collapsed": true
   },
   "outputs": [],
   "source": []
  }
 ],
 "metadata": {
  "kernelspec": {
   "display_name": "Python 2",
   "language": "python",
   "name": "python2"
  }
 },
 "nbformat": 4,
 "nbformat_minor": 2
}
